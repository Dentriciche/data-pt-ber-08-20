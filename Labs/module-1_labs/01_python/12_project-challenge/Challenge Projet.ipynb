{
 "cells": [
  {
   "cell_type": "markdown",
   "id": "verified-pastor",
   "metadata": {},
   "source": [
    "Challenge C: Multiplication Table\n",
    "Description\n",
    "Your task, is to create a function which returns a NxN multiplication table, of size N provided as a function argument.\n",
    "\n",
    "for example, when given size is 3:\n",
    "\n",
    "1 2 3\n",
    "\n",
    "2 4 6\n",
    "\n",
    "3 6 9\n",
    "\n",
    "So for the given example, the return value should be: [[1,2,3],[2,4,6],[3,6,9]]"
   ]
  },
  {
   "cell_type": "code",
   "execution_count": 19,
   "id": "interim-logistics",
   "metadata": {},
   "outputs": [
    {
     "name": "stdout",
     "output_type": "stream",
     "text": [
      "[[1, 2, 3], [2, 4, 6], [3, 6, 9]]\n"
     ]
    }
   ],
   "source": [
    "def multiplication_table(n):\n",
    "    if n > 0:\n",
    "        return [[ai for a in range(1, n+1)] for i in range(1, n+1)]\n",
    "    elif n == 0:\n",
    "        return [0]\n",
    "    else:\n",
    "        return [[-ai for a in range(1, -n+1)] for i in range(1, -n+1)]\n",
    "\n",
    "\n",
    "number = input('Give me a number:')\n",
    "try:\n",
    "    print(multiplication_table(int(number)))\n",
    "except ValueError:\n",
    "    print('You have to give a number. Try again.')"
   ]
  },
  {
   "cell_type": "code",
   "execution_count": 36,
   "id": "worthy-ballet",
   "metadata": {},
   "outputs": [
    {
     "name": "stdout",
     "output_type": "stream",
     "text": [
      "Combien de ligne souhaitez-vous afficher ?6\n",
      "[1, 1]\n",
      "[1, 2, 1]\n",
      "[1, 3, 3, 1]\n",
      "[1, 4, 6, 4, 1]\n",
      "[1, 5, 10, 10, 5, 1]\n",
      "[1, 6, 15, 20, 15, 6, 1]\n",
      "[1, 6, 15, 20, 15, 6, 1]\n"
     ]
    }
   ],
   "source": [
    "#je creer une liste contenant ma premiere ligne\n",
    "ancienneliste = [1]\n",
    "\n",
    "#je demande a l'utilisateur de me donner le nombre de ligne\n",
    "n=int(input('Combien de ligne souhaitez-vous afficher ?'))\n",
    "#une boucle pour obtenir n ligne qui correspond au nombre choisis\n",
    "for j in range(n):\n",
    "    nouvelleliste = ancienneliste + [1] #à chaque fois je creer une nouvelle liste avec ma liste precedente et je rajoute 1\n",
    "    for i in range(0,len(ancienneliste)-1): #pour qu'il s'arrete un cran avant\n",
    "        #pour avoir un element de la nouvelle liste je prend un element\\\n",
    "        #de l'ancienne liste auquel je rajoute l'element suivant de la liste\n",
    "        nouvelleliste[i+1] = ancienneliste[i] + ancienneliste[i+1]\n",
    "    print(nouvelleliste)\n",
    "    #pour que le programme se poursuive \n",
    "    ancienneliste=nouvelleliste\n",
    "print(nouvelleliste)"
   ]
  },
  {
   "cell_type": "code",
   "execution_count": null,
   "id": "opened-humanity",
   "metadata": {},
   "outputs": [],
   "source": [
    "n = int(input('enter the row number:'))\n",
    "\n",
    "def pascal_triangle(n):\n",
    "    #a list within list\n",
    "    list1 = [[] for i in range(n)]\n",
    "    for row in range(n):\n",
    "        #end whenever row == column\n",
    "        for columns in range(row+1):\n",
    "\n"
   ]
  }
 ],
 "metadata": {
  "kernelspec": {
   "display_name": "Python 3",
   "language": "python",
   "name": "python3"
  },
  "language_info": {
   "codemirror_mode": {
    "name": "ipython",
    "version": 3
   },
   "file_extension": ".py",
   "mimetype": "text/x-python",
   "name": "python",
   "nbconvert_exporter": "python",
   "pygments_lexer": "ipython3",
   "version": "3.9.1"
  }
 },
 "nbformat": 4,
 "nbformat_minor": 5
}
